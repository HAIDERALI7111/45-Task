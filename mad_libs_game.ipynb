{
  "nbformat": 4,
  "nbformat_minor": 0,
  "metadata": {
    "colab": {
      "provenance": [],
      "authorship_tag": "ABX9TyOsrSz2CYMIiAsNnf7fGekn",
      "include_colab_link": true
    },
    "kernelspec": {
      "name": "python3",
      "display_name": "Python 3"
    },
    "language_info": {
      "name": "python"
    }
  },
  "cells": [
    {
      "cell_type": "markdown",
      "metadata": {
        "id": "view-in-github",
        "colab_type": "text"
      },
      "source": [
        "<a href=\"https://colab.research.google.com/github/HAIDERALI7111/45-Task/blob/main/mad_libs_game.ipynb\" target=\"_parent\"><img src=\"https://colab.research.google.com/assets/colab-badge.svg\" alt=\"Open In Colab\"/></a>"
      ]
    },
    {
      "cell_type": "markdown",
      "source": [
        "# **Mad Libs Game In Python**"
      ],
      "metadata": {
        "id": "Sku0X5pu1umL"
      }
    },
    {
      "cell_type": "code",
      "execution_count": 6,
      "metadata": {
        "colab": {
          "base_uri": "https://localhost:8080/"
        },
        "id": "-z-RptBO1ila",
        "outputId": "fe523bf6-440c-469b-f2ee-16a1caac79bc"
      },
      "outputs": [
        {
          "output_type": "stream",
          "name": "stdout",
          "text": [
            "Enter The Boy NameHaider Ali\n",
            "Enter A Programming Language: (e.g:  python , Typescript , Next Js , Html): python\n",
            "Enter The Mentor NameSir Zia Khan\n",
            "Enter A Location eg: Governor House, Saylani Mass ItSaylani Mass It\n",
            "\n",
            " Here Is My Little Story Based On Mad Libs Game!\n",
            "Once Upon A Time, There Was A Boy Named Haider Ali. \n",
            "Haider Ali Was Very Intelligent Always Want To Learn New Things\n",
            "One Day, He Decided To Learn python Language At Saylani Mass It\n",
            "Luckily Haider Ali Found A Great Mentor Named Sir Zia Khan Who Was An Expert In python.\n",
            "And So, His Journey Continues....\n"
          ]
        }
      ],
      "source": [
        "#user Input\n",
        "name = input(\"Enter The Boy Name\")\n",
        "programming_language = input(\"Enter A Programming Language: (e.g:  python , Typescript , Next Js , Html): \")\n",
        "mentor = input (\"Enter The Mentor Name\")\n",
        "location = input (\"Enter A Location eg: Governor House, Saylani Mass It\")\n",
        "#Story Creator\n",
        "print(\"\\n Here Is My Little Story Based On Mad Libs Game!\")\n",
        "print(f\"Once Upon A Time, There Was A Boy Named {name}. \")\n",
        "print(f\"{name} Was Very Intelligent Always Want To Learn New Things\")\n",
        "print(f\"One Day, He Decided To Learn {programming_language} Language At {location}\")\n",
        "print(f\"Luckily {name} Found A Great Mentor Named {mentor} Who Was An Expert In {programming_language}.\")\n",
        "print(\"And So, His Journey Continues....\")"
      ]
    }
  ]
}